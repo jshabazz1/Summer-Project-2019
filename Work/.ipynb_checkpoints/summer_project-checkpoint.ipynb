{
 "cells": [
  {
   "cell_type": "code",
   "execution_count": 5,
   "metadata": {},
   "outputs": [
    {
     "name": "stderr",
     "output_type": "stream",
     "text": [
      "WARNING: AstropyDeprecationWarning: astropy.extern.six will be removed in 4.0, use the six module directly if it is still needed [astropy.extern.six]\n"
     ]
    }
   ],
   "source": [
    "import numpy as np\n",
    "from astroquery.mast import Catalogs\n",
    "#from astroquery.mast import Tesscut\n",
    "from astroquery.mast import Observations\n",
    "from astropy.wcs import WCS\n",
    "from astropy.io import fits\n",
    "import matplotlib.pyplot as plt\n",
    "%matplotlib inline\n",
    "#import pandas as pd\n",
    "from scipy import signal\n",
    "\n"
   ]
  },
  {
   "cell_type": "code",
   "execution_count": 6,
   "metadata": {},
   "outputs": [
    {
     "data": {
      "text/plain": [
       "2458326.903983"
      ]
     },
     "execution_count": 6,
     "metadata": {},
     "output_type": "execute_result"
    }
   ],
   "source": [
    "1326.903983+2457000.0"
   ]
  },
  {
   "cell_type": "code",
   "execution_count": 7,
   "metadata": {},
   "outputs": [],
   "source": [
    "#Insert TIC ID and BJD\n",
    "tic_id = '126603751'\n",
    "bjd = 2458335.233\n",
    "sector = '1'\n",
    "cadence= '1800'\n",
    "tbjd = bjd - 2457000.00\n",
    "\n",
    "\n",
    "def dload_url (tic_id, sector): #Dowloads URL through query for general 2-minute cadence data given TIC ID and Sector\n",
    "    \n",
    "    obsTable = Observations.query_criteria(\n",
    "        obs_collection = \"TESS\",\n",
    "        dataproduct_type = [\"TIMESERIES\"], productType = 'LIGHTCURVE',\n",
    "        target_name = tic_id,\n",
    "        sequence_number=sector)\n",
    "    products = Observations.get_product_list(obsTable)\n",
    "    manifest = Observations.download_products(products, extension = ['fits'])\n",
    "    return manifest\n",
    "\n",
    "def gen_url(tic_id, sector, cadence, version): #Generates URL for TASOC data given TIC ID, Sector, Cadence, and Version\n",
    "    tic_id_1 = tic_id.zfill(16)\n",
    "    tic_id_2 = tic_id.zfill(11)\n",
    "    if (cadence == '1800'):\n",
    "        sub_dir = \"ffi\"\n",
    "    else: \n",
    "        sub_dir = \"tpf\"\n",
    "    cadence = cadence.zfill(4)\n",
    "    \n",
    "    url = \"http://archive.stsci.edu/hlsps/tasoc/s000\" + str(sector) + \"/\" + sub_dir + \"/\" \\\n",
    "            + tic_id_1[0:4] + \"/\" + tic_id_1[4:8] + \"/\" + tic_id_1[8:12] + \"/\" + tic_id_1[12:16] + \"/\"\\\n",
    "            + \"hlsp_tasoc_tess_\" + sub_dir + \"_tic\" + tic_id_2 + \"-s0\" + str(sector) + \"-c\" + cadence + \"_tess_\"\\\n",
    "            + version + \"_lc.fits\"\n",
    "    return url"
   ]
  },
  {
   "cell_type": "code",
   "execution_count": 8,
   "metadata": {},
   "outputs": [
    {
     "name": "stdout",
     "output_type": "stream",
     "text": [
      "Filename: /Users/jshabazz/.astropy/cache/download/py3/98bcb21a7f2d17af1eb286394da1c1fa\n",
      "No.    Name      Ver    Type      Cards   Dimensions   Format\n",
      "  0  PRIMARY       1 PrimaryHDU      47   ()      \n",
      "  1  LIGHTCURVE    1 BinTableHDU     88   1282R x 14C   [D, E, J, D, D, D, D, D, J, J, D, D, D, D]   \n",
      "  2  SUMIMAGE      1 ImageHDU        87   (15, 13)   float64   \n",
      "  3  APERTURE      1 ImageHDU        87   (15, 13)   int32   \n"
     ]
    }
   ],
   "source": [
    "if (cadence == '1800'):\n",
    "    fits_lc = gen_url(tic_id, sector, cadence, 'v04')\n",
    "    fits.info(fits_lc)\n",
    "    fits.getdata(fits_lc, ext=1)\n",
    "    \n",
    "    with fits.open(fits_lc, mode=\"readonly\") as hdulist:\n",
    "        tess_bjds = hdulist[1].data['TIME']\n",
    "        sap_fluxes = hdulist[1].data['FLUX_RAW']#SIWTCH\n",
    "        pdcsap_fluxes = hdulist[1].data['FLUX_BKG']\n",
    "    \n",
    "else:\n",
    "    manifest = dload_url(tic_id, sector)\n",
    "    print(manifest)\n",
    "    fits_lc = manifest[1][0]\n",
    "    fits.info(fits_lc)\n",
    "    fits.getdata(fits_lc, ext=1)\n",
    "    with fits.open(fits_lc, mode=\"readonly\") as hdulist:\n",
    "        tess_bjds = hdulist[1].data['TIME']\n",
    "        sap_fluxes = hdulist[1].data['SAP_FLUX']\n",
    "        pdcsap_fluxes = hdulist[1].data['PDCSAP_FLUX']"
   ]
  },
  {
   "cell_type": "code",
   "execution_count": 9,
   "metadata": {},
   "outputs": [],
   "source": [
    "#manifest = dload_url(tic_id, sector)\n",
    "#fits_lc = manifest[0][0]\n",
    "#fits_lc = gen_url(tic_id, sector, '1800', 'v04')\n",
    "#fits.info(fits_lc)\n",
    "#fits.getdata(fits_lc, ext=1)"
   ]
  },
  {
   "cell_type": "code",
   "execution_count": 10,
   "metadata": {},
   "outputs": [],
   "source": [
    "#Stores HDU data into variables for plotting\n",
    "#with fits.open(fits_lc, mode=\"readonly\") as hdulist:\n",
    "#    tess_bjds = hdulist[1].data['TIME']\n",
    "#   sap_fluxes = hdulist[1].data['FLUX_RAW']\n",
    "#    pdcsap_fluxes = hdulist[1].data['FLUX_RAW']"
   ]
  },
  {
   "cell_type": "code",
   "execution_count": 11,
   "metadata": {},
   "outputs": [
    {
     "name": "stdout",
     "output_type": "stream",
     "text": [
      "[6317.35742188 6420.41552734 6620.0703125  ... 5861.35546875 5861.35546875\n",
      " 5861.35546875]\n"
     ]
    }
   ],
   "source": [
    "#FILTER SETTINGS\n",
    "if (cadence == '1800' ):\n",
    "    med_flux_1 = signal.medfilt(pdcsap_fluxes, kernel_size=65)\n",
    "else:\n",
    "    med_flux_1 = signal.medfilt(pdcsap_fluxes, kernel_size=101)\n",
    "print(med_flux_1)"
   ]
  },
  {
   "cell_type": "code",
   "execution_count": 13,
   "metadata": {},
   "outputs": [
    {
     "data": {
      "image/png": "[encoded data removed]",
      "text/plain": [
       "<Figure size 432x288 with 1 Axes>"
      ]
     },
     "metadata": {
      "needs_background": "light"
     },
     "output_type": "display_data"
    }
   ],
   "source": [
    "#PLOT LIGHT CURVE\n",
    "\n",
    "t0 = tbjd #transit time\n",
    "\n",
    "fig, ax = plt.subplots()\n",
    "\n",
    "#ax.plot(tess_bjds, pdcsap_fluxes, 'ko')#BKG black\n",
    "#ax.plot(tess_bjds, med_flux_1, 'b-')\n",
    "ax.plot(tess_bjds, sap_fluxes, 'bo')#RAW blue\n",
    "\n",
    "\n",
    "\n",
    "#ax.set_xlim(t0-1.0, t0+1.0)\n",
    "#ax.set_xlim(1335,1335.5)\n",
    "\n",
    "\n",
    "ax.axvline(x=t0, color = 'red')\n",
    "\n",
    "fig.suptitle(\"TIC \" + str(tic_id) + \" Transit - Sector \" + str(sector))\n",
    "ax.set_ylabel(\"PDCSAP Flux (e-/s)\")\n",
    "ax.set_xlabel(\"Time (TBJD)\")\n",
    "\n",
    "plt.subplots_adjust(left=0.15)\n",
    "plt.show()"
   ]
  },
  {
   "cell_type": "code",
   "execution_count": 14,
   "metadata": {},
   "outputs": [
    {
     "name": "stdout",
     "output_type": "stream",
     "text": [
      "(array([], dtype=int64), {'left_thresholds': array([], dtype=float64), 'right_thresholds': array([], dtype=float64)})\n"
     ]
    }
   ],
   "source": [
    "pdcpeak_ind = signal.find_peaks(pdcsap_fluxes, threshold = 100 )\n",
    "print(pdcpeak_ind)"
   ]
  },
  {
   "cell_type": "code",
   "execution_count": 16,
   "metadata": {},
   "outputs": [
    {
     "data": {
      "image/png": "[encoded data removed]",
      "text/plain": [
       "<Figure size 432x288 with 1 Axes>"
      ]
     },
     "metadata": {
      "needs_background": "light"
     },
     "output_type": "display_data"
    }
   ],
   "source": [
    "detrend_lc = (pdcsap_fluxes/med_flux_1) - 1\n",
    "\n",
    "\n",
    "fig, ax = plt.subplots()\n",
    "\n",
    "ax.plot(tess_bjds, detrend_lc, 'ko')\n",
    "\n",
    "\n",
    "#ax.set_xlim(t0-0.5,t0+0.5)\n",
    "\n",
    "fig.suptitle(\"TIC \" + str(tic_id) + \" Transit - Sector \" + str(sector))\n",
    "ax.set_ylabel(\"PDCSAP Flux (e-/s) *filtered*\")\n",
    "ax.set_xlabel(\"Time (TBJD)\")\n",
    "\n",
    "plt.subplots_adjust(left=0.15)\n",
    "plt.show()"
   ]
  },
  {
   "cell_type": "code",
   "execution_count": null,
   "metadata": {},
   "outputs": [],
   "source": []
  },
  {
   "cell_type": "code",
   "execution_count": 313,
   "metadata": {},
   "outputs": [],
   "source": [
    "#Possibly use quality flags to get rid of outliers that arent flares, NaN"
   ]
  },
  {
   "cell_type": "code",
   "execution_count": 314,
   "metadata": {},
   "outputs": [],
   "source": [
    "#outliers=[]\n",
    "def detect_outlier(data_1):\n",
    "    \n",
    "    threshold=69\n",
    "    mean_1 = np.mean(data_1)\n",
    "    std_1 =np.std(data_1)\n",
    "    \n",
    "    \n",
    "    for y in data_1:\n",
    "        z_score= (y - mean_1)/std_1 \n",
    "        if np.abs(z_score) > threshold:\n",
    "            outliers.append(y)\n",
    "    return outliers"
   ]
  },
  {
   "cell_type": "code",
   "execution_count": 315,
   "metadata": {},
   "outputs": [
    {
     "ename": "TypeError",
     "evalue": "unsupported operand type(s) for +: 'int' and 'dict'",
     "output_type": "error",
     "traceback": [
      "\u001b[0;31m---------------------------------------------------------------------------\u001b[0m",
      "\u001b[0;31mTypeError\u001b[0m                                 Traceback (most recent call last)",
      "\u001b[0;32m<ipython-input-315-e1132aae6486>\u001b[0m in \u001b[0;36m<module>\u001b[0;34m\u001b[0m\n\u001b[0;32m----> 1\u001b[0;31m \u001b[0moutlier_datapoints\u001b[0m \u001b[0;34m=\u001b[0m \u001b[0mdetect_outlier\u001b[0m\u001b[0;34m(\u001b[0m\u001b[0mpdcpeak_ind\u001b[0m\u001b[0;34m)\u001b[0m\u001b[0;34m\u001b[0m\u001b[0;34m\u001b[0m\u001b[0m\n\u001b[0m\u001b[1;32m      2\u001b[0m \u001b[0mprint\u001b[0m\u001b[0;34m(\u001b[0m\u001b[0moutlier_datapoints\u001b[0m\u001b[0;34m)\u001b[0m\u001b[0;34m\u001b[0m\u001b[0;34m\u001b[0m\u001b[0m\n",
      "\u001b[0;32m<ipython-input-314-9d6daced89a5>\u001b[0m in \u001b[0;36mdetect_outlier\u001b[0;34m(data_1)\u001b[0m\n\u001b[1;32m      3\u001b[0m \u001b[0;34m\u001b[0m\u001b[0m\n\u001b[1;32m      4\u001b[0m     \u001b[0mthreshold\u001b[0m\u001b[0;34m=\u001b[0m\u001b[0;36m69\u001b[0m\u001b[0;34m\u001b[0m\u001b[0;34m\u001b[0m\u001b[0m\n\u001b[0;32m----> 5\u001b[0;31m     \u001b[0mmean_1\u001b[0m \u001b[0;34m=\u001b[0m \u001b[0mnp\u001b[0m\u001b[0;34m.\u001b[0m\u001b[0mmean\u001b[0m\u001b[0;34m(\u001b[0m\u001b[0mdata_1\u001b[0m\u001b[0;34m)\u001b[0m\u001b[0;34m\u001b[0m\u001b[0;34m\u001b[0m\u001b[0m\n\u001b[0m\u001b[1;32m      6\u001b[0m     \u001b[0mstd_1\u001b[0m \u001b[0;34m=\u001b[0m\u001b[0mnp\u001b[0m\u001b[0;34m.\u001b[0m\u001b[0mstd\u001b[0m\u001b[0;34m(\u001b[0m\u001b[0mdata_1\u001b[0m\u001b[0;34m)\u001b[0m\u001b[0;34m\u001b[0m\u001b[0;34m\u001b[0m\u001b[0m\n\u001b[1;32m      7\u001b[0m \u001b[0;34m\u001b[0m\u001b[0m\n",
      "\u001b[0;32m~/miniconda3/envs/astroconda/lib/python3.7/site-packages/numpy/core/fromnumeric.py\u001b[0m in \u001b[0;36mmean\u001b[0;34m(a, axis, dtype, out, keepdims)\u001b[0m\n\u001b[1;32m   3116\u001b[0m \u001b[0;34m\u001b[0m\u001b[0m\n\u001b[1;32m   3117\u001b[0m     return _methods._mean(a, axis=axis, dtype=dtype,\n\u001b[0;32m-> 3118\u001b[0;31m                           out=out, **kwargs)\n\u001b[0m\u001b[1;32m   3119\u001b[0m \u001b[0;34m\u001b[0m\u001b[0m\n\u001b[1;32m   3120\u001b[0m \u001b[0;34m\u001b[0m\u001b[0m\n",
      "\u001b[0;32m~/miniconda3/envs/astroconda/lib/python3.7/site-packages/numpy/core/_methods.py\u001b[0m in \u001b[0;36m_mean\u001b[0;34m(a, axis, dtype, out, keepdims)\u001b[0m\n\u001b[1;32m     73\u001b[0m             \u001b[0mis_float16_result\u001b[0m \u001b[0;34m=\u001b[0m \u001b[0;32mTrue\u001b[0m\u001b[0;34m\u001b[0m\u001b[0;34m\u001b[0m\u001b[0m\n\u001b[1;32m     74\u001b[0m \u001b[0;34m\u001b[0m\u001b[0m\n\u001b[0;32m---> 75\u001b[0;31m     \u001b[0mret\u001b[0m \u001b[0;34m=\u001b[0m \u001b[0mumr_sum\u001b[0m\u001b[0;34m(\u001b[0m\u001b[0marr\u001b[0m\u001b[0;34m,\u001b[0m \u001b[0maxis\u001b[0m\u001b[0;34m,\u001b[0m \u001b[0mdtype\u001b[0m\u001b[0;34m,\u001b[0m \u001b[0mout\u001b[0m\u001b[0;34m,\u001b[0m \u001b[0mkeepdims\u001b[0m\u001b[0;34m)\u001b[0m\u001b[0;34m\u001b[0m\u001b[0;34m\u001b[0m\u001b[0m\n\u001b[0m\u001b[1;32m     76\u001b[0m     \u001b[0;32mif\u001b[0m \u001b[0misinstance\u001b[0m\u001b[0;34m(\u001b[0m\u001b[0mret\u001b[0m\u001b[0;34m,\u001b[0m \u001b[0mmu\u001b[0m\u001b[0;34m.\u001b[0m\u001b[0mndarray\u001b[0m\u001b[0;34m)\u001b[0m\u001b[0;34m:\u001b[0m\u001b[0;34m\u001b[0m\u001b[0;34m\u001b[0m\u001b[0m\n\u001b[1;32m     77\u001b[0m         ret = um.true_divide(\n",
      "\u001b[0;31mTypeError\u001b[0m: unsupported operand type(s) for +: 'int' and 'dict'"
     ]
    }
   ],
   "source": [
    "outlier_datapoints = detect_outlier(pdcpeak_ind)\n",
    "print(outlier_datapoints)"
   ]
  },
  {
   "cell_type": "code",
   "execution_count": null,
   "metadata": {},
   "outputs": [],
   "source": []
  },
  {
   "cell_type": "code",
   "execution_count": null,
   "metadata": {},
   "outputs": [],
   "source": []
  },
  {
   "cell_type": "code",
   "execution_count": null,
   "metadata": {},
   "outputs": [],
   "source": []
  },
  {
   "cell_type": "code",
   "execution_count": null,
   "metadata": {},
   "outputs": [],
   "source": []
  }
 ],
 "metadata": {
  "kernelspec": {
   "display_name": "Python 3",
   "language": "python",
   "name": "python3"
  },
  "language_info": {
   "codemirror_mode": {
    "name": "ipython",
    "version": 3
   },
   "file_extension": ".py",
   "mimetype": "text/x-python",
   "name": "python",
   "nbconvert_exporter": "python",
   "pygments_lexer": "ipython3",
   "version": "3.7.3"
  }
 },
 "nbformat": 4,
 "nbformat_minor": 2
}
