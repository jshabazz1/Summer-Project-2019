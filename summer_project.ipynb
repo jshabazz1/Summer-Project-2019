{
 "cells": [
  {
   "cell_type": "code",
   "execution_count": 1,
   "metadata": {},
   "outputs": [
    {
     "name": "stderr",
     "output_type": "stream",
     "text": [
      "WARNING: AstropyDeprecationWarning: astropy.extern.six will be removed in 4.0, use the six module directly if it is still needed [astropy.extern.six]\n"
     ]
    }
   ],
   "source": [
    "import numpy as np\n",
    "from astroquery.mast import Catalogs\n",
    "from astroquery.mast import Tesscut\n",
    "from astroquery.mast import Observations\n",
    "from astropy.wcs import WCS\n",
    "from astropy.io import fits\n",
    "import matplotlib.pyplot as plt\n",
    "%matplotlib inline"
   ]
  },
  {
   "cell_type": "code",
   "execution_count": 71,
   "metadata": {},
   "outputs": [],
   "source": [
    "#Insert TIC ID and BJD\n",
    "tic_id = '167602025'\n",
    "bjd = 2458335.233\n",
    "sector = '1'\n",
    "tbjd = bjd - 2457000.00\n",
    "\n",
    "\n",
    "def dload_url (tic_id, sector): #Dowloads URL through query for general 2-minute cadence data given TIC ID and Sector\n",
    "    \n",
    "    obsTable = Observations.query_criteria(\n",
    "        obs_collection = \"HLSP\", project = \"TESS\",\n",
    "        dataproduct_type = [\"timeseries\"],\n",
    "        target_name = tic_id,\n",
    "        sequence_number=sector)\n",
    "    products = Observations.get_product_list(obsTable)\n",
    "    manifest = Observations.download_products(products, extension = \"fits\")\n",
    "    return manifest\n",
    "\n",
    "def gen_url(tic_id, sector, cadence, version): #Generates URL for TASOC data given TIC ID, Sector, Cadence, and Version\n",
    "    tic_id_1 = tic_id.zfill(16)\n",
    "    tic_id_2 = tic_id.zfill(11)\n",
    "    if (cadence == '1800'):\n",
    "        sub_dir = \"ffi\"\n",
    "    else: \n",
    "        sub_dir = \"tpf\"\n",
    "    cadence = cadence.zfill(4)\n",
    "    \n",
    "    url = \"http://archive.stsci.edu/hlsps/tasoc/s000\" + str(sector) + \"/\" + sub_dir + \"/\" \\\n",
    "            + tic_id_1[0:4] + \"/\" + tic_id_1[4:8] + \"/\" + tic_id_1[8:12] + \"/\" + tic_id_1[12:16] + \"/\"\\\n",
    "            + \"hlsp_tasoc_tess_\" + sub_dir + \"_tic\" + tic_id_2 + \"-s0\" + str(sector) + \"-c\" + cadence + \"_tess_\"\\\n",
    "            + version + \"_lc.fits\"\n",
    "    return url"
   ]
  },
  {
   "cell_type": "code",
   "execution_count": 90,
   "metadata": {},
   "outputs": [
    {
     "name": "stdout",
     "output_type": "stream",
     "text": [
      "INFO: Found cached file ./mastDownload/HLSP/hlsp_tasoc_tess_ffi_tic00167602025-s01-c0120_tess_v04_lc/hlsp_tasoc_tess_ffi_tic00167602025-s01-c0120_tess_v04_lc.fits with expected size 1877760. [astroquery.query]\n",
      "INFO: Found cached file ./mastDownload/HLSP/hlsp_tasoc_tess_ffi_tic00167602025-s01-c1800_tess_v04_lc/hlsp_tasoc_tess_ffi_tic00167602025-s01-c1800_tess_v04_lc.fits with expected size 161280. [astroquery.query]\n",
      "Filename: ./mastDownload/HLSP/hlsp_tasoc_tess_ffi_tic00167602025-s01-c0120_tess_v04_lc/hlsp_tasoc_tess_ffi_tic00167602025-s01-c0120_tess_v04_lc.fits\n",
      "No.    Name      Ver    Type      Cards   Dimensions   Format\n",
      "  0  PRIMARY       1 PrimaryHDU      47   ()      \n",
      "  1  LIGHTCURVE    1 BinTableHDU     88   19261R x 14C   [D, E, J, D, D, D, D, D, J, J, D, D, D, D]   \n",
      "  2  SUMIMAGE      1 ImageHDU        29   (11, 11)   float64   \n",
      "  3  APERTURE      1 ImageHDU        29   (11, 11)   int32   \n"
     ]
    },
    {
     "data": {
      "text/plain": [
       "FITS_rec([(1325.29375723, -0.00060541, 70444, 7577.31005859, 12.01934433, 3289.01538086, nan, nan, 0, 8, 1918.75382763, 1015.87104801,         nan,         nan),\n",
       "          (1325.29514611, -0.00060542, 70445, 7553.89794922, 12.02351761, 3317.05371094, nan, nan, 0, 0, 1918.80189573, 1015.92822877, -0.04481367, -0.01285106),\n",
       "          (1325.296535  , -0.00060543, 70446, 7598.87255859, 12.02742195, 3287.09375   , nan, nan, 0, 0, 1918.82069333, 1015.96220175, -0.01887261,  0.01837436),\n",
       "          ...,\n",
       "          (1353.17285472, -0.00066344, 90517, 7522.99511719, 12.22473049, 3762.38623047, nan, nan, 0, 0, 1918.82428118, 1015.85838019, -0.01646267, -0.08952453),\n",
       "          (1353.1742436 , -0.00066345, 90518, 7527.84179688, 12.22674942, 3769.78027344, nan, nan, 0, 0, 1918.82786357, 1015.8850953 , -0.0100801 , -0.05873123),\n",
       "          (1353.17563248, -0.00066346, 90519, 7512.828125  , 12.21453667, 3761.91015625, nan, nan, 0, 0, 1918.8194783 , 1015.85902087, -0.01719231, -0.08671916)],\n",
       "         dtype=(numpy.record, [('TIME', '>f8'), ('TIMECORR', '>f4'), ('CADENCENO', '>i4'), ('FLUX_RAW', '>f8'), ('FLUX_RAW_ERR', '>f8'), ('FLUX_BKG', '>f8'), ('FLUX_CORR', '>f8'), ('FLUX_CORR_ERR', '>f8'), ('QUALITY', '>i4'), ('PIXEL_QUALITY', '>i4'), ('MOM_CENTR1', '>f8'), ('MOM_CENTR2', '>f8'), ('POS_CORR1', '>f8'), ('POS_CORR2', '>f8')]))"
      ]
     },
     "execution_count": 90,
     "metadata": {},
     "output_type": "execute_result"
    }
   ],
   "source": [
    "manifest = dload_url(tic_id, sector)\n",
    "fits_lc = manifest[0][0]\n",
    "#print(gen_url(tic_id, sector, '1800', 'v01'))\n",
    "#fits_lc = gen_url(tic_id, sector, '1800', 'v04')\n",
    "fits.info(fits_lc)\n",
    "fits.getdata(fits_lc, ext=1)"
   ]
  },
  {
   "cell_type": "code",
   "execution_count": 110,
   "metadata": {},
   "outputs": [],
   "source": [
    "#Stores HDU data into variables for plotting\n",
    "with fits.open(fits_lc, mode=\"readonly\") as hdulist:\n",
    "    tess_bjds = hdulist[1].data['TIME']\n",
    "    sap_fluxes = hdulist[1].data['FLUX_BKG']\n",
    "    pdcsap_fluxes = hdulist[1].data['FLUX_RAW']"
   ]
  },
  {
   "cell_type": "code",
   "execution_count": 113,
   "metadata": {},
   "outputs": [
    {
     "data": {
      "image/png": "[encoded data removed]",
      "text/plain": [
       "<Figure size 432x288 with 1 Axes>"
      ]
     },
     "metadata": {
      "needs_background": "light"
     },
     "output_type": "display_data"
    }
   ],
   "source": [
    "#PLOT LIGHT CURVE\n",
    "t0 = tbjd #transit time\n",
    "\n",
    "fig, ax = plt.subplots()\n",
    "\n",
    "ax.plot(tess_bjds, pdcsap_fluxes, 'ko')\n",
    "\n",
    "ax.set_xlim(t0-1.0, t0+1.0)\n",
    "\n",
    "\n",
    "ax.axvline(x=t0, color = 'red')\n",
    "\n",
    "fig.suptitle(\"TIC \" + str(tic_id) + \" Transit - Sector \" + str(sector))\n",
    "ax.set_ylabel(\"PDCSAP Flux (e-/s)\")\n",
    "ax.set_xlabel(\"Time (TBJD)\")\n",
    "\n",
    "plt.subplots_adjust(left=0.15)\n",
    "plt.show()"
   ]
  },
  {
   "cell_type": "code",
   "execution_count": 87,
   "metadata": {},
   "outputs": [],
   "source": [
    "import numpy as np\n",
    "import pandas as pd"
   ]
  },
  {
   "cell_type": "code",
   "execution_count": 114,
   "metadata": {},
   "outputs": [],
   "source": [
    "outliers=[]\n",
    "def detect_outlier(data_1):\n",
    "    \n",
    "    threshold=3\n",
    "    mean_1 = np.mean(data_1)\n",
    "    std_1 =np.std(data_1)\n",
    "    \n",
    "    \n",
    "    for y in data_1:\n",
    "        z_score= (y - mean_1)/std_1 \n",
    "        if np.abs(z_score) > threshold:\n",
    "            outliers.append(y)\n",
    "    return outliers"
   ]
  },
  {
   "cell_type": "code",
   "execution_count": 116,
   "metadata": {},
   "outputs": [
    {
     "name": "stdout",
     "output_type": "stream",
     "text": [
      "[]\n"
     ]
    }
   ],
   "source": [
    "outlier_datapoints = detect_outlier(pdcsap_fluxes)\n",
    "print(outlier_datapoints)"
   ]
  },
  {
   "cell_type": "code",
   "execution_count": null,
   "metadata": {},
   "outputs": [],
   "source": []
  }
 ],
 "metadata": {
  "kernelspec": {
   "display_name": "Python 3",
   "language": "python",
   "name": "python3"
  },
  "language_info": {
   "codemirror_mode": {
    "name": "ipython",
    "version": 3
   },
   "file_extension": ".py",
   "mimetype": "text/x-python",
   "name": "python",
   "nbconvert_exporter": "python",
   "pygments_lexer": "ipython3",
   "version": "3.7.3"
  }
 },
 "nbformat": 4,
 "nbformat_minor": 2
}
