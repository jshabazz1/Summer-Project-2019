{
 "cells": [
  {
   "cell_type": "code",
   "execution_count": 1,
   "metadata": {},
   "outputs": [
    {
     "name": "stderr",
     "output_type": "stream",
     "text": [
      "WARNING: AstropyDeprecationWarning: astropy.extern.six will be removed in 4.0, use the six module directly if it is still needed [astropy.extern.six]\n"
     ]
    }
   ],
   "source": [
    "import numpy as np\n",
    "from astroquery.mast import Catalogs\n",
    "from astroquery.mast import Tesscut\n",
    "from astroquery.mast import Observations\n",
    "from astropy.wcs import WCS\n",
    "from astropy.io import fits\n",
    "import matplotlib.pyplot as plt\n",
    "%matplotlib inline"
   ]
  },
  {
   "cell_type": "code",
   "execution_count": 42,
   "metadata": {},
   "outputs": [],
   "source": [
    "#Insert TIC ID and BJD\n",
    "tic_id = '167602025'\n",
    "bjd = 2458344.875\n",
    "sector = '1'\n",
    "tbjd = bjd - 2457000.00\n",
    "\n",
    "\n",
    "def dload_url (tic_id, sector): #Dowloads URL through query for general 2-minute cadence data given TIC ID and Sector\n",
    "    \n",
    "    obsTable = Observations.query_criteria(\n",
    "        obs_collection = \"HLSP\", project = \"TESS\",\n",
    "        dataproduct_type = [\"timeseries\"],\n",
    "        target_name = tic_id,\n",
    "        sequence_number=sector)\n",
    "    products = Observations.get_product_list(obsTable)\n",
    "    manifest = Observations.download_products(products, extension = \"fits\")\n",
    "    return manifest\n",
    "\n",
    "def gen_url(tic_id, sector, cadence, version): #Generates URL for TASOC data given TIC ID, Sector, Cadence, and Version\n",
    "    tic_id_1 = tic_id.zfill(16)\n",
    "    tic_id_2 = tic_id.zfill(11)\n",
    "    if (cadence == '1800'):\n",
    "        sub_dir = \"ffi\"\n",
    "    else: \n",
    "        sub_dir = \"tpf\"\n",
    "    cadence = cadence.zfill(4)\n",
    "    \n",
    "    url = \"http://archive.stsci.edu/hlsps/tasoc/s000\" + str(sector) + \"/\" + sub_dir + \"/\" \\\n",
    "            + tic_id_1[0:4] + \"/\" + tic_id_1[4:8] + \"/\" + tic_id_1[8:12] + \"/\" + tic_id_1[12:16] + \"/\"\\\n",
    "            + \"hlsp_tasoc_tess_\" + sub_dir + \"_tic\" + tic_id_2 + \"-s0\" + str(sector) + \"-c\" + cadence + \"_tess_\"\\\n",
    "            + version + \"_lc.fits\"\n",
    "    return url"
   ]
  },
  {
   "cell_type": "code",
   "execution_count": 43,
   "metadata": {},
   "outputs": [
    {
     "name": "stdout",
     "output_type": "stream",
     "text": [
      "Filename: /Users/jshabazz/.astropy/cache/download/py3/03871c8cd9c9783c577a89266dc542a9\n",
      "No.    Name      Ver    Type      Cards   Dimensions   Format\n",
      "  0  PRIMARY       1 PrimaryHDU      47   ()      \n",
      "  1  LIGHTCURVE    1 BinTableHDU     88   1282R x 14C   [D, E, J, D, D, D, D, D, J, J, D, D, D, D]   \n",
      "  2  SUMIMAGE      1 ImageHDU        87   (15, 15)   float64   \n",
      "  3  APERTURE      1 ImageHDU        87   (15, 15)   int32   \n"
     ]
    },
    {
     "data": {
      "text/plain": [
       "FITS_rec([(1325.3230338 , -0.00048347, 4697, 7389.45507812, 3.08390427, 3580.83129883, nan, nan, 0, 0, 1918.82937024, 1015.97109509, -0.00100657,  0.00832977),\n",
       "          (1325.34386684, -0.00048376, 4698, 7435.19482422, 3.0972991 , 3644.76660156, nan, nan, 0, 0, 1918.82849472, 1015.9721866 , -0.00042567,  0.00569806),\n",
       "          (1325.36469988, -0.00048404, 4699, 7449.02148438, 3.11425972, 3773.42285156, nan, nan, 0, 0, 1918.82843226, 1015.97360334,  0.01251346,  0.03818714),\n",
       "          ...,\n",
       "          (1353.11440126, -0.00077155, 6031, 7404.23535156, 3.12165093, 3884.9675293 , nan, nan, 0, 0, 1918.82350355, 1015.86566076,  0.00188886, -0.00423462),\n",
       "          (1353.13523433, -0.00077181, 6032, 7404.45214844, 3.12171984, 3882.97412109, nan, nan, 0, 0, 1918.82158741, 1015.86649768,  0.07861906,  0.0854366 ),\n",
       "          (1353.15606739, -0.00077207, 6033, 7402.39648438, 3.1212306 , 3882.66625977, nan, nan, 0, 0, 1918.82399112, 1015.86537101,  0.00327592,  0.08037379)],\n",
       "         dtype=(numpy.record, [('TIME', '>f8'), ('TIMECORR', '>f4'), ('CADENCENO', '>i4'), ('FLUX_RAW', '>f8'), ('FLUX_RAW_ERR', '>f8'), ('FLUX_BKG', '>f8'), ('FLUX_CORR', '>f8'), ('FLUX_CORR_ERR', '>f8'), ('QUALITY', '>i4'), ('PIXEL_QUALITY', '>i4'), ('MOM_CENTR1', '>f8'), ('MOM_CENTR2', '>f8'), ('POS_CORR1', '>f8'), ('POS_CORR2', '>f8')]))"
      ]
     },
     "execution_count": 43,
     "metadata": {},
     "output_type": "execute_result"
    }
   ],
   "source": [
    "#manifest = dload_url(tic_id, sector)\n",
    "#fits_lc = manifest[0][0]\n",
    "\n",
    "fits_lc = gen_url(tic_id, sector, '1800', 'v04')\n",
    "fits.info(fits_lc)\n",
    "fits.getdata(fits_lc, ext=1)"
   ]
  },
  {
   "cell_type": "code",
   "execution_count": 44,
   "metadata": {},
   "outputs": [],
   "source": [
    "#Stores HDU data into variables for plotting\n",
    "with fits.open(fits_lc, mode=\"readonly\") as hdulist:\n",
    "    tess_bjds = hdulist[1].data['TIME']\n",
    "    #sap_fluxes = hdulist[1].data['SAP_FLUX']\n",
    "    pdcsap_fluxes = hdulist[1].data['FLUX_RAW']"
   ]
  },
  {
   "cell_type": "code",
   "execution_count": 45,
   "metadata": {},
   "outputs": [
    {
     "data": {
      "image/png": "[encoded data removed]",
      "text/plain": [
       "<Figure size 432x288 with 1 Axes>"
      ]
     },
     "metadata": {
      "needs_background": "light"
     },
     "output_type": "display_data"
    }
   ],
   "source": [
    "#PLOT LIGHT CURVE\n",
    "#t0 = tbjd #transit time\n",
    "\n",
    "fig, ax = plt.subplots()\n",
    "\n",
    "ax.plot(tess_bjds, pdcsap_fluxes, 'ko')\n",
    "\n",
    "#ax.set_xlim(1365, 1370)\n",
    "\n",
    "\n",
    "#ax.axvline(x=t0, color = 'red')\n",
    "\n",
    "fig.suptitle(\"TIC \" + str(tic_id) + \" Transit - Sector \" + str(sector))\n",
    "ax.set_ylabel(\"PDCSAP Flux (e-/s)\")\n",
    "ax.set_xlabel(\"Time (TBJD)\")\n",
    "\n",
    "plt.subplots_adjust(left=0.15)\n",
    "plt.show()"
   ]
  },
  {
   "cell_type": "code",
   "execution_count": null,
   "metadata": {},
   "outputs": [],
   "source": []
  }
 ],
 "metadata": {
  "kernelspec": {
   "display_name": "Python 3",
   "language": "python",
   "name": "python3"
  },
  "language_info": {
   "codemirror_mode": {
    "name": "ipython",
    "version": 3
   },
   "file_extension": ".py",
   "mimetype": "text/x-python",
   "name": "python",
   "nbconvert_exporter": "python",
   "pygments_lexer": "ipython3",
   "version": "3.7.3"
  }
 },
 "nbformat": 4,
 "nbformat_minor": 2
}
