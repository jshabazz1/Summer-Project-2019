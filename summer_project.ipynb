{
 "cells": [
  {
   "cell_type": "code",
   "execution_count": 97,
   "metadata": {},
   "outputs": [],
   "source": [
    "import numpy as np\n",
    "from astroquery.mast import Catalogs\n",
    "from astroquery.mast import Tesscut\n",
    "from astroquery.mast import Observations\n",
    "from astropy.wcs import WCS\n",
    "from astropy.io import fits\n",
    "import matplotlib.pyplot as plt\n",
    "%matplotlib inline"
   ]
  },
  {
   "cell_type": "code",
   "execution_count": 179,
   "metadata": {},
   "outputs": [
    {
     "name": "stdout",
     "output_type": "stream",
     "text": [
      "INFO: Found cached file ./mastDownload/TESS/tess2018206045859-s0001-0000000167814740-0120-s/tess2018206045859-s0001-0000000167814740-0120-s_lc.fits with expected size 2039040. [astroquery.query]\n",
      "INFO: Found cached file ./mastDownload/TESS/tess2018206045859-s0001-0000000167814740-0120-s/tess2018206045859-s0001-0000000167814740-0120-s_tp.fits with expected size 49184640. [astroquery.query]\n"
     ]
    }
   ],
   "source": [
    "#Insert TIC ID and BJD\n",
    "tic_id = '167814740'\n",
    "bjd = 2458344.875\n",
    "\n",
    "tbjd = bjd - 2457000.00\n",
    "obsTable = Observations.query_criteria(\n",
    "    obs_collection = \"TESS\",\n",
    "    dataproduct_type = [\"timeseries\"],\n",
    "    target_name = tic_id,\n",
    "    sequence_number=1)\n",
    "products = Observations.get_product_list(obsTable)\n",
    "manifest = Observations.download_products(products, extension = \"fits\")\n",
    "\n",
    "\n",
    "\n"
   ]
  },
  {
   "cell_type": "code",
   "execution_count": 180,
   "metadata": {},
   "outputs": [
    {
     "name": "stdout",
     "output_type": "stream",
     "text": [
      "Filename: ./mastDownload/TESS/tess2018206045859-s0001-0000000167814740-0120-s/tess2018206045859-s0001-0000000167814740-0120-s_lc.fits\n",
      "No.    Name      Ver    Type      Cards   Dimensions   Format\n",
      "  0  PRIMARY       1 PrimaryHDU      44   ()      \n",
      "  1  LIGHTCURVE    1 BinTableHDU    167   20076R x 20C   [D, E, J, E, E, E, E, E, E, J, D, E, D, E, D, E, D, E, E, E]   \n",
      "  2  APERTURE      1 ImageHDU        49   (11, 11)   int32   \n"
     ]
    },
    {
     "data": {
      "text/plain": [
       "FITS_rec([(1325.2936085 , -0.00075415, 70444, 439.359  , 3.7041054, 424.76752, 1.3259917,       nan,       nan, 8, nan, nan, nan, nan, 1821.20380029, 0.00415322, 728.27571099, 0.00409846,         nan,         nan),\n",
       "          (1325.29499738, -0.00075416, 70445, 465.7037 , 3.743253 , 425.7101 , 1.3276252, 740.1587 , 6.1510315, 0, nan, nan, nan, nan, 1821.22664795, 0.00392451, 728.30414588, 0.00388382, -0.04718027, -0.02255802),\n",
       "          (1325.29638625, -0.00075417, 70446, 466.3088 , 3.743197 , 424.68973, 1.3269012, 726.26855, 6.15094  , 0, nan, nan, nan, nan, 1821.23798153, 0.00390999, 728.31871034, 0.00386988, -0.02125226,  0.01026588),\n",
       "          ...,\n",
       "          (1353.17268055, -0.00083761, 90517, 444.62335, 3.781661 , 464.25024, 1.3679848, 726.72516, 6.214145 , 0, nan, nan, nan, nan, 1821.24008904, 0.00416229, 728.26003867, 0.00415242, -0.02083492, -0.10000297),\n",
       "          (1353.17406943, -0.00083762, 90518, 453.07227, 3.7922955, 461.97726, 1.3651083, 730.08624, 6.2316203, 0, nan, nan, nan, nan, 1821.2385775 , 0.0040916 , 728.28141236, 0.00406778, -0.0143215 , -0.06884731),\n",
       "          (1353.17545832, -0.00083762, 90519, 449.066  , 3.7878122, 463.79   , 1.3671265, 733.13434, 6.224253 , 0, nan, nan, nan, nan, 1821.2374455 , 0.00412817, 728.2621024 , 0.00411507, -0.02127044, -0.09680262)],\n",
       "         dtype=(numpy.record, [('TIME', '>f8'), ('TIMECORR', '>f4'), ('CADENCENO', '>i4'), ('SAP_FLUX', '>f4'), ('SAP_FLUX_ERR', '>f4'), ('SAP_BKG', '>f4'), ('SAP_BKG_ERR', '>f4'), ('PDCSAP_FLUX', '>f4'), ('PDCSAP_FLUX_ERR', '>f4'), ('QUALITY', '>i4'), ('PSF_CENTR1', '>f8'), ('PSF_CENTR1_ERR', '>f4'), ('PSF_CENTR2', '>f8'), ('PSF_CENTR2_ERR', '>f4'), ('MOM_CENTR1', '>f8'), ('MOM_CENTR1_ERR', '>f4'), ('MOM_CENTR2', '>f8'), ('MOM_CENTR2_ERR', '>f4'), ('POS_CORR1', '>f4'), ('POS_CORR2', '>f4')]))"
      ]
     },
     "execution_count": 180,
     "metadata": {},
     "output_type": "execute_result"
    }
   ],
   "source": [
    "fits_lc = manifest[0][0]\n",
    "fits.info(fits_lc)\n",
    "fits.getdata(fits_lc, ext=1)"
   ]
  },
  {
   "cell_type": "code",
   "execution_count": 181,
   "metadata": {},
   "outputs": [],
   "source": [
    "#Stores HDU data into variables for plotting\n",
    "with fits.open(fits_lc, mode=\"readonly\") as hdulist:\n",
    "    tess_bjds = hdulist[1].data['TIME']\n",
    "    sap_fluxes = hdulist[1].data['SAP_FLUX']\n",
    "    pdcsap_fluxes = hdulist[1].data['PDCSAP_FLUX']"
   ]
  },
  {
   "cell_type": "code",
   "execution_count": 182,
   "metadata": {},
   "outputs": [
    {
     "data": {
      "image/png": "[encoded data removed]",
      "text/plain": [
       "<Figure size 432x288 with 1 Axes>"
      ]
     },
     "metadata": {
      "needs_background": "light"
     },
     "output_type": "display_data"
    }
   ],
   "source": [
    "#PLOT LIGHT CURVE\n",
    "t0 = tbjd #transit time\n",
    "\n",
    "fig, ax = plt.subplots()\n",
    "\n",
    "ax.plot(tess_bjds, pdcsap_fluxes, 'ko')\n",
    "\n",
    "ax.set_xlim(t0-0.5, t0 + 0.5)\n",
    "\n",
    "\n",
    "ax.axvline(x=t0, color = 'red')\n",
    "\n",
    "fig.suptitle(\"TIC \" + str(tic_id) + \" Transit - Sector 1\")\n",
    "ax.set_ylabel(\"PDCSAP Flux (e-/s)\")\n",
    "ax.set_xlabel(\"Time (TBJD)\")\n",
    "\n",
    "plt.subplots_adjust(left=0.15)\n",
    "plt.show()"
   ]
  },
  {
   "cell_type": "code",
   "execution_count": null,
   "metadata": {},
   "outputs": [],
   "source": []
  }
 ],
 "metadata": {
  "kernelspec": {
   "display_name": "Python 3",
   "language": "python",
   "name": "python3"
  },
  "language_info": {
   "codemirror_mode": {
    "name": "ipython",
    "version": 3
   },
   "file_extension": ".py",
   "mimetype": "text/x-python",
   "name": "python",
   "nbconvert_exporter": "python",
   "pygments_lexer": "ipython3",
   "version": "3.7.3"
  }
 },
 "nbformat": 4,
 "nbformat_minor": 2
}
